{
 "cells": [
  {
   "cell_type": "markdown",
   "id": "7c53befc-4c3e-45dc-b8bd-ae604a89d919",
   "metadata": {},
   "source": [
    "# Comparative Study of Personal Loan Data and National Income Statistics"
   ]
  },
  {
   "cell_type": "markdown",
   "id": "cc64a1f7-2bec-480a-82e5-357818ccf18c",
   "metadata": {},
   "source": [
    "1. **Loaded the Credit Dataset**: Loaded the credit dataset (`credit_risk_dataset.csv`) into a pandas DataFrame.\n",
    "\n",
    "2. **Initial Exploratory Data Analysis (EDA)**: Performed an initial EDA to understand the dataset structure, including the number of rows and columns, data types, and summary statistics. Also, checked the balance of the target variable (`loan_status`).\n",
    "\n",
    "3. **Checked for Missing Data**: Found missing values in the `person_emp_length` and `loan_int_rate` columns.\n",
    "\n",
    "4. **Loaded the US Household Income Dataset**: Unzipped and loaded the US household income dataset (`kaggle_income.csv`) into another pandas DataFrame.\n",
    "\n",
    "5. **Compared Mean Incomes**: Calculated the mean income for both datasets and found that the average income in the credit dataset was slightly lower than the national average.\n",
    "\n",
    "6. **Calculated Income Percentiles**: Calculated the 99th and 99.9th percentiles of income in the US household income dataset.\n",
    "\n",
    "7. **Clipped Extreme Incomes**: Clipped values of `person_income` in the credit dataset that were higher than the 99.9th percentile of incomes in the US household income dataset.\n",
    "\n",
    "8. **Calculated the Age of the Oldest Person**: Calculated the age of the oldest person alive, based on a birth date of January 2, 1903.\n",
    "\n",
    "9. **Removed Unrealistic Ages**: Removed rows from the credit dataset where `person_age` was greater than the calculated age of the oldest person alive.\n",
    "\n",
    "10. **Engineered New Features**: Proposed three new features to engineer:\n",
    "    - Income to Loan Ratio (`income_loan_ratio`): The ratio of the person's income to the loan amount.\n",
    "    - Income to Employment Length Ratio (`income_emp_length_ratio`): The ratio of the person's income to their employment length.\n",
    "    - Loan Amount to Credit History Length Ratio (`loan_credit_hist_ratio`): The ratio of the loan amount to the length of the person's credit history.\n"
   ]
  },
  {
   "cell_type": "code",
   "execution_count": 4,
   "id": "b6f70ed7-2a16-4bfd-91fd-cc2af774926b",
   "metadata": {
    "tags": []
   },
   "outputs": [],
   "source": [
    "from pathlib import Path\n",
    "\n",
    "from scilint.scilint import get_project_root\n",
    "\n",
    "project_root = get_project_root()\n",
    "datasets_path = Path(project_root, \"datasets\")"
   ]
  },
  {
   "cell_type": "code",
   "execution_count": 5,
   "id": "ad0e46c6-7c27-416c-9434-f1c91a33617d",
   "metadata": {
    "tags": []
   },
   "outputs": [
    {
     "data": {
      "text/html": [
       "<div>\n",
       "<style scoped>\n",
       "    .dataframe tbody tr th:only-of-type {\n",
       "        vertical-align: middle;\n",
       "    }\n",
       "\n",
       "    .dataframe tbody tr th {\n",
       "        vertical-align: top;\n",
       "    }\n",
       "\n",
       "    .dataframe thead th {\n",
       "        text-align: right;\n",
       "    }\n",
       "</style>\n",
       "<table border=\"1\" class=\"dataframe\">\n",
       "  <thead>\n",
       "    <tr style=\"text-align: right;\">\n",
       "      <th></th>\n",
       "      <th>person_age</th>\n",
       "      <th>person_income</th>\n",
       "      <th>person_home_ownership</th>\n",
       "      <th>person_emp_length</th>\n",
       "      <th>loan_intent</th>\n",
       "      <th>loan_grade</th>\n",
       "      <th>loan_amnt</th>\n",
       "      <th>loan_int_rate</th>\n",
       "      <th>loan_status</th>\n",
       "      <th>loan_percent_income</th>\n",
       "      <th>cb_person_default_on_file</th>\n",
       "      <th>cb_person_cred_hist_length</th>\n",
       "    </tr>\n",
       "  </thead>\n",
       "  <tbody>\n",
       "    <tr>\n",
       "      <th>0</th>\n",
       "      <td>22</td>\n",
       "      <td>59000</td>\n",
       "      <td>RENT</td>\n",
       "      <td>123.0</td>\n",
       "      <td>PERSONAL</td>\n",
       "      <td>D</td>\n",
       "      <td>35000</td>\n",
       "      <td>16.02</td>\n",
       "      <td>1</td>\n",
       "      <td>0.59</td>\n",
       "      <td>Y</td>\n",
       "      <td>3</td>\n",
       "    </tr>\n",
       "    <tr>\n",
       "      <th>1</th>\n",
       "      <td>21</td>\n",
       "      <td>9600</td>\n",
       "      <td>OWN</td>\n",
       "      <td>5.0</td>\n",
       "      <td>EDUCATION</td>\n",
       "      <td>B</td>\n",
       "      <td>1000</td>\n",
       "      <td>11.14</td>\n",
       "      <td>0</td>\n",
       "      <td>0.10</td>\n",
       "      <td>N</td>\n",
       "      <td>2</td>\n",
       "    </tr>\n",
       "    <tr>\n",
       "      <th>2</th>\n",
       "      <td>25</td>\n",
       "      <td>9600</td>\n",
       "      <td>MORTGAGE</td>\n",
       "      <td>1.0</td>\n",
       "      <td>MEDICAL</td>\n",
       "      <td>C</td>\n",
       "      <td>5500</td>\n",
       "      <td>12.87</td>\n",
       "      <td>1</td>\n",
       "      <td>0.57</td>\n",
       "      <td>N</td>\n",
       "      <td>3</td>\n",
       "    </tr>\n",
       "    <tr>\n",
       "      <th>3</th>\n",
       "      <td>23</td>\n",
       "      <td>65500</td>\n",
       "      <td>RENT</td>\n",
       "      <td>4.0</td>\n",
       "      <td>MEDICAL</td>\n",
       "      <td>C</td>\n",
       "      <td>35000</td>\n",
       "      <td>15.23</td>\n",
       "      <td>1</td>\n",
       "      <td>0.53</td>\n",
       "      <td>N</td>\n",
       "      <td>2</td>\n",
       "    </tr>\n",
       "    <tr>\n",
       "      <th>4</th>\n",
       "      <td>24</td>\n",
       "      <td>54400</td>\n",
       "      <td>RENT</td>\n",
       "      <td>8.0</td>\n",
       "      <td>MEDICAL</td>\n",
       "      <td>C</td>\n",
       "      <td>35000</td>\n",
       "      <td>14.27</td>\n",
       "      <td>1</td>\n",
       "      <td>0.55</td>\n",
       "      <td>Y</td>\n",
       "      <td>4</td>\n",
       "    </tr>\n",
       "  </tbody>\n",
       "</table>\n",
       "</div>"
      ],
      "text/plain": [
       "   person_age  person_income person_home_ownership  person_emp_length   \n",
       "0          22          59000                  RENT              123.0  \\\n",
       "1          21           9600                   OWN                5.0   \n",
       "2          25           9600              MORTGAGE                1.0   \n",
       "3          23          65500                  RENT                4.0   \n",
       "4          24          54400                  RENT                8.0   \n",
       "\n",
       "  loan_intent loan_grade  loan_amnt  loan_int_rate  loan_status   \n",
       "0    PERSONAL          D      35000          16.02            1  \\\n",
       "1   EDUCATION          B       1000          11.14            0   \n",
       "2     MEDICAL          C       5500          12.87            1   \n",
       "3     MEDICAL          C      35000          15.23            1   \n",
       "4     MEDICAL          C      35000          14.27            1   \n",
       "\n",
       "   loan_percent_income cb_person_default_on_file  cb_person_cred_hist_length  \n",
       "0                 0.59                         Y                           3  \n",
       "1                 0.10                         N                           2  \n",
       "2                 0.57                         N                           3  \n",
       "3                 0.53                         N                           2  \n",
       "4                 0.55                         Y                           4  "
      ]
     },
     "execution_count": 5,
     "metadata": {},
     "output_type": "execute_result"
    }
   ],
   "source": [
    "import pandas as pd\n",
    "\n",
    "# Load the data into a DataFrame\n",
    "df = pd.read_csv(Path(datasets_path, \"credit_risk_dataset.csv\"))\n",
    "\n",
    "# Display the first few rows of the DataFrame\n",
    "df.head()"
   ]
  },
  {
   "cell_type": "code",
   "execution_count": 6,
   "id": "3b27fead-8c2b-4383-950f-d183a7c3edd4",
   "metadata": {
    "tags": []
   },
   "outputs": [
    {
     "name": "stdout",
     "output_type": "stream",
     "text": [
      "The dataset has 32581 rows and 12 columns.\n",
      "\n",
      "Missing values in each column:\n",
      "person_age                       0\n",
      "person_income                    0\n",
      "person_home_ownership            0\n",
      "person_emp_length              895\n",
      "loan_intent                      0\n",
      "loan_grade                       0\n",
      "loan_amnt                        0\n",
      "loan_int_rate                 3116\n",
      "loan_status                      0\n",
      "loan_percent_income              0\n",
      "cb_person_default_on_file        0\n",
      "cb_person_cred_hist_length       0\n",
      "dtype: int64\n",
      "\n",
      "Summary of numerical features:\n",
      "         person_age  person_income  person_emp_length     loan_amnt   \n",
      "count  32581.000000   3.258100e+04       31686.000000  32581.000000  \\\n",
      "mean      27.734600   6.607485e+04           4.789686   9589.371106   \n",
      "std        6.348078   6.198312e+04           4.142630   6322.086646   \n",
      "min       20.000000   4.000000e+03           0.000000    500.000000   \n",
      "25%       23.000000   3.850000e+04           2.000000   5000.000000   \n",
      "50%       26.000000   5.500000e+04           4.000000   8000.000000   \n",
      "75%       30.000000   7.920000e+04           7.000000  12200.000000   \n",
      "max      144.000000   6.000000e+06         123.000000  35000.000000   \n",
      "\n",
      "       loan_int_rate   loan_status  loan_percent_income   \n",
      "count   29465.000000  32581.000000         32581.000000  \\\n",
      "mean       11.011695      0.218164             0.170203   \n",
      "std         3.240459      0.413006             0.106782   \n",
      "min         5.420000      0.000000             0.000000   \n",
      "25%         7.900000      0.000000             0.090000   \n",
      "50%        10.990000      0.000000             0.150000   \n",
      "75%        13.470000      0.000000             0.230000   \n",
      "max        23.220000      1.000000             0.830000   \n",
      "\n",
      "       cb_person_cred_hist_length  \n",
      "count                32581.000000  \n",
      "mean                     5.804211  \n",
      "std                      4.055001  \n",
      "min                      2.000000  \n",
      "25%                      3.000000  \n",
      "50%                      4.000000  \n",
      "75%                      8.000000  \n",
      "max                     30.000000  \n",
      "\n",
      "Summary of categorical features:\n",
      "       person_home_ownership loan_intent loan_grade cb_person_default_on_file\n",
      "count                  32581       32581      32581                     32581\n",
      "unique                     4           6          7                         2\n",
      "top                     RENT   EDUCATION          A                         N\n",
      "freq                   16446        6453      10777                     26836\n",
      "\n",
      "Counts of each class in the loan_status column:\n",
      "loan_status\n",
      "0    25473\n",
      "1     7108\n",
      "Name: count, dtype: int64\n"
     ]
    }
   ],
   "source": [
    "# Check the number of rows and columns in the dataset\n",
    "num_rows, num_cols = df.shape\n",
    "print(f\"The dataset has {num_rows} rows and {num_cols} columns.\")\n",
    "\n",
    "# Check for missing values\n",
    "missing_values = df.isnull().sum()\n",
    "print(\"\\nMissing values in each column:\")\n",
    "print(missing_values)\n",
    "\n",
    "# Summary of numerical features\n",
    "print(\"\\nSummary of numerical features:\")\n",
    "print(df.describe())\n",
    "\n",
    "# Summary of categorical features\n",
    "print(\"\\nSummary of categorical features:\")\n",
    "print(df.describe(include=[\"O\"]))\n",
    "\n",
    "# Check the balance of the target variable `loan_status`\n",
    "loan_status_counts = df[\"loan_status\"].value_counts()\n",
    "print(\"\\nCounts of each class in the loan_status column:\")\n",
    "print(loan_status_counts)"
   ]
  },
  {
   "cell_type": "code",
   "execution_count": 7,
   "id": "cade5cad-0dc1-496d-8f75-2611a627c43a",
   "metadata": {
    "tags": []
   },
   "outputs": [
    {
     "data": {
      "image/png": "[encoded data removed]",
      "text/plain": [
       "<Figure size 1296x1080 with 9 Axes>"
      ]
     },
     "metadata": {
      "needs_background": "light"
     },
     "output_type": "display_data"
    }
   ],
   "source": [
    "import matplotlib.pyplot as plt\n",
    "import seaborn as sns\n",
    "\n",
    "# Set the style of the plots\n",
    "sns.set(style=\"whitegrid\")\n",
    "\n",
    "# Set up the figure and axes for a 3x3 grid of plots\n",
    "fig, ax = plt.subplots(3, 3, figsize=(18, 15))\n",
    "\n",
    "# Plot histograms of the numerical columns\n",
    "numerical_cols = [\n",
    "    \"person_age\",\n",
    "    \"person_income\",\n",
    "    \"person_emp_length\",\n",
    "    \"loan_amnt\",\n",
    "    \"loan_int_rate\",\n",
    "    \"loan_percent_income\",\n",
    "    \"cb_person_cred_hist_length\",\n",
    "]\n",
    "\n",
    "for i, col in enumerate(numerical_cols):\n",
    "    sns.histplot(data=df, x=col, kde=True, ax=ax[i // 3, i % 3])\n",
    "\n",
    "# Add title and labels\n",
    "fig.suptitle(\"Histograms of Numerical Columns\", fontsize=20)\n",
    "plt.tight_layout(rect=[0, 0, 1, 0.96])  # For the suptitle space\n",
    "\n",
    "plt.show()"
   ]
  },
  {
   "cell_type": "code",
   "execution_count": 8,
   "id": "aa1d13a1-f829-4469-9c31-131e1681defb",
   "metadata": {
    "tags": []
   },
   "outputs": [
    {
     "data": {
      "image/png": "[encoded data removed]",
      "text/plain": [
       "<Figure size 1296x864 with 4 Axes>"
      ]
     },
     "metadata": {
      "needs_background": "light"
     },
     "output_type": "display_data"
    }
   ],
   "source": [
    "# Set up the figure and axes for a 2x2 grid of plots\n",
    "fig, ax = plt.subplots(2, 2, figsize=(18, 12))\n",
    "\n",
    "# Plot bar charts of the categorical columns\n",
    "categorical_cols = [\n",
    "    \"person_home_ownership\",\n",
    "    \"loan_intent\",\n",
    "    \"loan_grade\",\n",
    "    \"cb_person_default_on_file\",\n",
    "]\n",
    "\n",
    "for i, col in enumerate(categorical_cols):\n",
    "    sns.countplot(data=df, x=col, ax=ax[i // 2, i % 2])\n",
    "\n",
    "# Rotate the x labels for better readability\n",
    "for a in ax.flat:\n",
    "    a.set_xticklabels(a.get_xticklabels(), rotation=45)\n",
    "\n",
    "# Add title and labels\n",
    "fig.suptitle(\"Bar Charts of Categorical Columns\", fontsize=20)\n",
    "plt.tight_layout(rect=[0, 0, 1, 0.96])  # For the suptitle space\n",
    "\n",
    "plt.show()"
   ]
  },
  {
   "cell_type": "code",
   "execution_count": 9,
   "id": "1a2e8936-6130-43f5-bec9-00bc645784cc",
   "metadata": {
    "tags": []
   },
   "outputs": [
    {
     "data": {
      "image/png": "[encoded data removed]",
      "text/plain": [
       "<Figure size 720x576 with 2 Axes>"
      ]
     },
     "metadata": {
      "needs_background": "light"
     },
     "output_type": "display_data"
    }
   ],
   "source": [
    "# Calculate the correlation matrix\n",
    "corr_matrix = df.corr(numeric_only=True)\n",
    "\n",
    "# Create a heatmap of the correlation matrix\n",
    "plt.figure(figsize=(10, 8))\n",
    "sns.heatmap(corr_matrix, annot=True, fmt=\".2f\", cmap=\"coolwarm\", cbar=True, square=True)\n",
    "\n",
    "# Add title\n",
    "plt.title(\"Correlation Matrix of Numerical Variables\", fontsize=20)\n",
    "\n",
    "plt.show()"
   ]
  },
  {
   "cell_type": "code",
   "execution_count": 10,
   "id": "5de60315-ef0c-4988-b963-276f8d2a7242",
   "metadata": {
    "tags": []
   },
   "outputs": [
    {
     "data": {
      "image/png": "[encoded data removed]",
      "text/plain": [
       "<Figure size 720x432 with 1 Axes>"
      ]
     },
     "metadata": {
      "needs_background": "light"
     },
     "output_type": "display_data"
    }
   ],
   "source": [
    "# Plot missing values\n",
    "missing_values_ratio = df.isnull().mean() * 100\n",
    "missing_values_ratio.sort_values(ascending=False, inplace=True)\n",
    "\n",
    "plt.figure(figsize=(10, 6))\n",
    "sns.barplot(\n",
    "    x=missing_values_ratio.values, y=missing_values_ratio.index, palette=\"viridis\"\n",
    ")\n",
    "plt.title(\"Percentage of Missing Values by Feature\", fontsize=20)\n",
    "plt.xlabel(\"Percentage (%)\", fontsize=15)\n",
    "plt.ylabel(\"Feature\", fontsize=15)\n",
    "plt.show()"
   ]
  },
  {
   "cell_type": "code",
   "execution_count": 11,
   "id": "87355ff4-13ff-4f72-b02f-994b5f2fdf5f",
   "metadata": {
    "tags": []
   },
   "outputs": [
    {
     "data": {
      "text/html": [
       "<div>\n",
       "<style scoped>\n",
       "    .dataframe tbody tr th:only-of-type {\n",
       "        vertical-align: middle;\n",
       "    }\n",
       "\n",
       "    .dataframe tbody tr th {\n",
       "        vertical-align: top;\n",
       "    }\n",
       "\n",
       "    .dataframe thead th {\n",
       "        text-align: right;\n",
       "    }\n",
       "</style>\n",
       "<table border=\"1\" class=\"dataframe\">\n",
       "  <thead>\n",
       "    <tr style=\"text-align: right;\">\n",
       "      <th></th>\n",
       "      <th>id</th>\n",
       "      <th>State_Code</th>\n",
       "      <th>State_Name</th>\n",
       "      <th>State_ab</th>\n",
       "      <th>County</th>\n",
       "      <th>City</th>\n",
       "      <th>Place</th>\n",
       "      <th>Type</th>\n",
       "      <th>Primary</th>\n",
       "      <th>Zip_Code</th>\n",
       "      <th>Area_Code</th>\n",
       "      <th>ALand</th>\n",
       "      <th>AWater</th>\n",
       "      <th>Lat</th>\n",
       "      <th>Lon</th>\n",
       "      <th>Mean</th>\n",
       "      <th>Median</th>\n",
       "      <th>Stdev</th>\n",
       "      <th>sum_w</th>\n",
       "    </tr>\n",
       "  </thead>\n",
       "  <tbody>\n",
       "    <tr>\n",
       "      <th>0</th>\n",
       "      <td>1011000</td>\n",
       "      <td>1</td>\n",
       "      <td>Alabama</td>\n",
       "      <td>AL</td>\n",
       "      <td>Mobile County</td>\n",
       "      <td>Chickasaw</td>\n",
       "      <td>Chickasaw city</td>\n",
       "      <td>City</td>\n",
       "      <td>place</td>\n",
       "      <td>36611</td>\n",
       "      <td>251</td>\n",
       "      <td>10894952</td>\n",
       "      <td>909156</td>\n",
       "      <td>30.771450</td>\n",
       "      <td>-88.079697</td>\n",
       "      <td>38773</td>\n",
       "      <td>30506</td>\n",
       "      <td>33101</td>\n",
       "      <td>1638.260513</td>\n",
       "    </tr>\n",
       "    <tr>\n",
       "      <th>1</th>\n",
       "      <td>1011010</td>\n",
       "      <td>1</td>\n",
       "      <td>Alabama</td>\n",
       "      <td>AL</td>\n",
       "      <td>Barbour County</td>\n",
       "      <td>Louisville</td>\n",
       "      <td>Clio city</td>\n",
       "      <td>City</td>\n",
       "      <td>place</td>\n",
       "      <td>36048</td>\n",
       "      <td>334</td>\n",
       "      <td>26070325</td>\n",
       "      <td>23254</td>\n",
       "      <td>31.708516</td>\n",
       "      <td>-85.611039</td>\n",
       "      <td>37725</td>\n",
       "      <td>19528</td>\n",
       "      <td>43789</td>\n",
       "      <td>258.017685</td>\n",
       "    </tr>\n",
       "    <tr>\n",
       "      <th>2</th>\n",
       "      <td>1011020</td>\n",
       "      <td>1</td>\n",
       "      <td>Alabama</td>\n",
       "      <td>AL</td>\n",
       "      <td>Shelby County</td>\n",
       "      <td>Columbiana</td>\n",
       "      <td>Columbiana city</td>\n",
       "      <td>City</td>\n",
       "      <td>place</td>\n",
       "      <td>35051</td>\n",
       "      <td>205</td>\n",
       "      <td>44835274</td>\n",
       "      <td>261034</td>\n",
       "      <td>33.191452</td>\n",
       "      <td>-86.615618</td>\n",
       "      <td>54606</td>\n",
       "      <td>31930</td>\n",
       "      <td>57348</td>\n",
       "      <td>926.031000</td>\n",
       "    </tr>\n",
       "    <tr>\n",
       "      <th>3</th>\n",
       "      <td>1011030</td>\n",
       "      <td>1</td>\n",
       "      <td>Alabama</td>\n",
       "      <td>AL</td>\n",
       "      <td>Mobile County</td>\n",
       "      <td>Satsuma</td>\n",
       "      <td>Creola city</td>\n",
       "      <td>City</td>\n",
       "      <td>place</td>\n",
       "      <td>36572</td>\n",
       "      <td>251</td>\n",
       "      <td>36878729</td>\n",
       "      <td>2374530</td>\n",
       "      <td>30.874343</td>\n",
       "      <td>-88.009442</td>\n",
       "      <td>63919</td>\n",
       "      <td>52814</td>\n",
       "      <td>47707</td>\n",
       "      <td>378.114619</td>\n",
       "    </tr>\n",
       "    <tr>\n",
       "      <th>4</th>\n",
       "      <td>1011040</td>\n",
       "      <td>1</td>\n",
       "      <td>Alabama</td>\n",
       "      <td>AL</td>\n",
       "      <td>Mobile County</td>\n",
       "      <td>Dauphin Island</td>\n",
       "      <td>Dauphin Island</td>\n",
       "      <td>Town</td>\n",
       "      <td>place</td>\n",
       "      <td>36528</td>\n",
       "      <td>251</td>\n",
       "      <td>16204185</td>\n",
       "      <td>413605152</td>\n",
       "      <td>30.250913</td>\n",
       "      <td>-88.171268</td>\n",
       "      <td>77948</td>\n",
       "      <td>67225</td>\n",
       "      <td>54270</td>\n",
       "      <td>282.320328</td>\n",
       "    </tr>\n",
       "  </tbody>\n",
       "</table>\n",
       "</div>"
      ],
      "text/plain": [
       "        id  State_Code State_Name State_ab          County            City   \n",
       "0  1011000           1    Alabama       AL   Mobile County       Chickasaw  \\\n",
       "1  1011010           1    Alabama       AL  Barbour County      Louisville   \n",
       "2  1011020           1    Alabama       AL   Shelby County      Columbiana   \n",
       "3  1011030           1    Alabama       AL   Mobile County         Satsuma   \n",
       "4  1011040           1    Alabama       AL   Mobile County  Dauphin Island   \n",
       "\n",
       "             Place  Type Primary  Zip_Code Area_Code     ALand     AWater   \n",
       "0   Chickasaw city  City   place     36611       251  10894952     909156  \\\n",
       "1        Clio city  City   place     36048       334  26070325      23254   \n",
       "2  Columbiana city  City   place     35051       205  44835274     261034   \n",
       "3      Creola city  City   place     36572       251  36878729    2374530   \n",
       "4   Dauphin Island  Town   place     36528       251  16204185  413605152   \n",
       "\n",
       "         Lat        Lon   Mean  Median  Stdev        sum_w  \n",
       "0  30.771450 -88.079697  38773   30506  33101  1638.260513  \n",
       "1  31.708516 -85.611039  37725   19528  43789   258.017685  \n",
       "2  33.191452 -86.615618  54606   31930  57348   926.031000  \n",
       "3  30.874343 -88.009442  63919   52814  47707   378.114619  \n",
       "4  30.250913 -88.171268  77948   67225  54270   282.320328  "
      ]
     },
     "execution_count": 11,
     "metadata": {},
     "output_type": "execute_result"
    }
   ],
   "source": [
    "# Load the US income data into a DataFrame\n",
    "df_income = pd.read_csv(\n",
    "    Path(datasets_path, \"household_income.csv\"), encoding=\"ISO-8859-1\"\n",
    ")\n",
    "\n",
    "# Display the first few rows of the DataFrame\n",
    "df_income.head()"
   ]
  },
  {
   "cell_type": "code",
   "execution_count": 12,
   "id": "3127955c-ea69-44e2-8fc1-1fe06e3e781c",
   "metadata": {
    "tags": []
   },
   "outputs": [
    {
     "data": {
      "text/plain": [
       "(66703.98604193568, 66074.84846996715)"
      ]
     },
     "execution_count": 12,
     "metadata": {},
     "output_type": "execute_result"
    }
   ],
   "source": [
    "# Calculate the mean income for the US income dataset\n",
    "mean_income_us = df_income[\"Mean\"].mean()\n",
    "\n",
    "# Calculate the mean income for the credit dataset\n",
    "mean_income_credit = df[\"person_income\"].mean()\n",
    "\n",
    "mean_income_us, mean_income_credit"
   ]
  },
  {
   "cell_type": "code",
   "execution_count": 13,
   "id": "c3b8e501-0f27-469a-935a-b0349222ce45",
   "metadata": {
    "tags": []
   },
   "outputs": [
    {
     "data": {
      "text/plain": [
       "161044.25"
      ]
     },
     "execution_count": 13,
     "metadata": {},
     "output_type": "execute_result"
    }
   ],
   "source": [
    "# Calculate the 99th percentile of income for the US income dataset\n",
    "percentile_99_income_us = df_income[\"Mean\"].quantile(0.99)\n",
    "\n",
    "percentile_99_income_us"
   ]
  },
  {
   "cell_type": "code",
   "execution_count": 14,
   "id": "6c130e73-0b4e-4ca0-b661-9cae3375be18",
   "metadata": {
    "tags": []
   },
   "outputs": [
    {
     "data": {
      "text/plain": [
       "190376.8000000002"
      ]
     },
     "execution_count": 14,
     "metadata": {},
     "output_type": "execute_result"
    }
   ],
   "source": [
    "# Calculate the 99.9th percentile of income for the US income dataset\n",
    "percentile_999_income_us = df_income[\"Mean\"].quantile(0.999)\n",
    "\n",
    "percentile_999_income_us"
   ]
  },
  {
   "cell_type": "code",
   "execution_count": 15,
   "id": "8fa78fc2-d39a-4620-b82f-e170481a7665",
   "metadata": {
    "tags": []
   },
   "outputs": [
    {
     "data": {
      "text/plain": [
       "6000000"
      ]
     },
     "execution_count": 15,
     "metadata": {},
     "output_type": "execute_result"
    }
   ],
   "source": [
    "# Calculate the maximum value of person_income in the credit dataset\n",
    "max_person_income_credit = df[\"person_income\"].max()\n",
    "\n",
    "max_person_income_credit"
   ]
  },
  {
   "cell_type": "code",
   "execution_count": 16,
   "id": "36705b21-e8c9-4a7d-930c-5610ec96be91",
   "metadata": {
    "tags": []
   },
   "outputs": [
    {
     "data": {
      "text/plain": [
       "190376.8000000002"
      ]
     },
     "execution_count": 16,
     "metadata": {},
     "output_type": "execute_result"
    }
   ],
   "source": [
    "# Clip values of person_income higher than the 99.9th percentile of US household income\n",
    "df[\"person_income_clipped\"] = df[\"person_income\"].clip(upper=percentile_999_income_us)\n",
    "\n",
    "# Check the new maximum value of person_income_clipped\n",
    "max_person_income_clipped = df[\"person_income_clipped\"].max()\n",
    "\n",
    "max_person_income_clipped"
   ]
  },
  {
   "cell_type": "code",
   "execution_count": 17,
   "id": "bb0dcda5-5083-4a3c-a680-1cf6483c8a9d",
   "metadata": {
    "tags": []
   },
   "outputs": [
    {
     "data": {
      "text/plain": [
       "120"
      ]
     },
     "execution_count": 17,
     "metadata": {},
     "output_type": "execute_result"
    }
   ],
   "source": [
    "from datetime import datetime\n",
    "\n",
    "# Date of birth of the oldest person\n",
    "dob = datetime(1903, 1, 2)\n",
    "\n",
    "# Today's date\n",
    "today = datetime(2023, 7, 19)\n",
    "\n",
    "# Calculate the age\n",
    "oldest_person_age = (\n",
    "    today.year - dob.year - ((today.month, today.day) < (dob.month, dob.day))\n",
    ")\n",
    "\n",
    "oldest_person_age"
   ]
  },
  {
   "cell_type": "code",
   "execution_count": 18,
   "id": "14f7d332-f0de-4322-92db-53a49b01991b",
   "metadata": {
    "tags": []
   },
   "outputs": [
    {
     "data": {
      "text/plain": [
       "94"
      ]
     },
     "execution_count": 18,
     "metadata": {},
     "output_type": "execute_result"
    }
   ],
   "source": [
    "# Remove rows where person_age is greater than oldest_person_age\n",
    "df = df[df[\"person_age\"] <= oldest_person_age]\n",
    "\n",
    "# Check the new maximum person_age\n",
    "max_person_age = df[\"person_age\"].max()\n",
    "\n",
    "max_person_age"
   ]
  },
  {
   "cell_type": "code",
   "execution_count": 19,
   "id": "91e5b99b-3c2e-40fc-a0b8-953441ee48e4",
   "metadata": {
    "tags": []
   },
   "outputs": [
    {
     "data": {
      "text/plain": [
       "5"
      ]
     },
     "execution_count": 19,
     "metadata": {},
     "output_type": "execute_result"
    }
   ],
   "source": [
    "# Calculate the number of rows removed\n",
    "num_rows_after_removal = df.shape[0]\n",
    "num_rows_removed = num_rows - num_rows_after_removal\n",
    "\n",
    "num_rows_removed"
   ]
  },
  {
   "cell_type": "code",
   "execution_count": 20,
   "id": "bc05f30b-aa01-436b-8099-0028a6c3a36f",
   "metadata": {
    "tags": []
   },
   "outputs": [
    {
     "data": {
      "image/png": "[encoded data removed]",
      "text/plain": [
       "<Figure size 720x2160 with 7 Axes>"
      ]
     },
     "metadata": {
      "needs_background": "light"
     },
     "output_type": "display_data"
    }
   ],
   "source": [
    "# List of numerical columns\n",
    "numerical_cols = [\n",
    "    \"person_age\",\n",
    "    \"person_income_clipped\",\n",
    "    \"person_emp_length\",\n",
    "    \"loan_amnt\",\n",
    "    \"loan_int_rate\",\n",
    "    \"loan_percent_income\",\n",
    "    \"cb_person_cred_hist_length\",\n",
    "]\n",
    "\n",
    "# Create boxplots for each numerical column\n",
    "fig, ax = plt.subplots(len(numerical_cols), 1, figsize=(10, 30))\n",
    "\n",
    "for i, col in enumerate(numerical_cols):\n",
    "    sns.boxplot(data=df, y=col, ax=ax[i])\n",
    "    ax[i].set_title(f\"Boxplot of {col}\", fontsize=15)\n",
    "\n",
    "plt.tight_layout()\n",
    "plt.show()"
   ]
  },
  {
   "cell_type": "code",
   "execution_count": 21,
   "id": "b8f5be61-5048-4ff6-9d95-c0c31362eb12",
   "metadata": {
    "tags": []
   },
   "outputs": [
    {
     "data": {
      "text/html": [
       "<div>\n",
       "<style scoped>\n",
       "    .dataframe tbody tr th:only-of-type {\n",
       "        vertical-align: middle;\n",
       "    }\n",
       "\n",
       "    .dataframe tbody tr th {\n",
       "        vertical-align: top;\n",
       "    }\n",
       "\n",
       "    .dataframe thead th {\n",
       "        text-align: right;\n",
       "    }\n",
       "</style>\n",
       "<table border=\"1\" class=\"dataframe\">\n",
       "  <thead>\n",
       "    <tr style=\"text-align: right;\">\n",
       "      <th></th>\n",
       "      <th>person_age</th>\n",
       "      <th>person_income</th>\n",
       "      <th>person_home_ownership</th>\n",
       "      <th>person_emp_length</th>\n",
       "      <th>loan_intent</th>\n",
       "      <th>loan_grade</th>\n",
       "      <th>loan_amnt</th>\n",
       "      <th>loan_int_rate</th>\n",
       "      <th>loan_status</th>\n",
       "      <th>loan_percent_income</th>\n",
       "      <th>cb_person_default_on_file</th>\n",
       "      <th>cb_person_cred_hist_length</th>\n",
       "      <th>person_income_clipped</th>\n",
       "      <th>income_loan_ratio</th>\n",
       "      <th>income_emp_length_ratio</th>\n",
       "      <th>loan_credit_hist_ratio</th>\n",
       "    </tr>\n",
       "  </thead>\n",
       "  <tbody>\n",
       "    <tr>\n",
       "      <th>0</th>\n",
       "      <td>22</td>\n",
       "      <td>59000</td>\n",
       "      <td>RENT</td>\n",
       "      <td>123.0</td>\n",
       "      <td>PERSONAL</td>\n",
       "      <td>D</td>\n",
       "      <td>35000</td>\n",
       "      <td>16.02</td>\n",
       "      <td>1</td>\n",
       "      <td>0.59</td>\n",
       "      <td>Y</td>\n",
       "      <td>3</td>\n",
       "      <td>59000.0</td>\n",
       "      <td>1.685714</td>\n",
       "      <td>479.674797</td>\n",
       "      <td>11666.666667</td>\n",
       "    </tr>\n",
       "    <tr>\n",
       "      <th>1</th>\n",
       "      <td>21</td>\n",
       "      <td>9600</td>\n",
       "      <td>OWN</td>\n",
       "      <td>5.0</td>\n",
       "      <td>EDUCATION</td>\n",
       "      <td>B</td>\n",
       "      <td>1000</td>\n",
       "      <td>11.14</td>\n",
       "      <td>0</td>\n",
       "      <td>0.10</td>\n",
       "      <td>N</td>\n",
       "      <td>2</td>\n",
       "      <td>9600.0</td>\n",
       "      <td>9.600000</td>\n",
       "      <td>1920.000000</td>\n",
       "      <td>500.000000</td>\n",
       "    </tr>\n",
       "    <tr>\n",
       "      <th>2</th>\n",
       "      <td>25</td>\n",
       "      <td>9600</td>\n",
       "      <td>MORTGAGE</td>\n",
       "      <td>1.0</td>\n",
       "      <td>MEDICAL</td>\n",
       "      <td>C</td>\n",
       "      <td>5500</td>\n",
       "      <td>12.87</td>\n",
       "      <td>1</td>\n",
       "      <td>0.57</td>\n",
       "      <td>N</td>\n",
       "      <td>3</td>\n",
       "      <td>9600.0</td>\n",
       "      <td>1.745455</td>\n",
       "      <td>9600.000000</td>\n",
       "      <td>1833.333333</td>\n",
       "    </tr>\n",
       "    <tr>\n",
       "      <th>3</th>\n",
       "      <td>23</td>\n",
       "      <td>65500</td>\n",
       "      <td>RENT</td>\n",
       "      <td>4.0</td>\n",
       "      <td>MEDICAL</td>\n",
       "      <td>C</td>\n",
       "      <td>35000</td>\n",
       "      <td>15.23</td>\n",
       "      <td>1</td>\n",
       "      <td>0.53</td>\n",
       "      <td>N</td>\n",
       "      <td>2</td>\n",
       "      <td>65500.0</td>\n",
       "      <td>1.871429</td>\n",
       "      <td>16375.000000</td>\n",
       "      <td>17500.000000</td>\n",
       "    </tr>\n",
       "    <tr>\n",
       "      <th>4</th>\n",
       "      <td>24</td>\n",
       "      <td>54400</td>\n",
       "      <td>RENT</td>\n",
       "      <td>8.0</td>\n",
       "      <td>MEDICAL</td>\n",
       "      <td>C</td>\n",
       "      <td>35000</td>\n",
       "      <td>14.27</td>\n",
       "      <td>1</td>\n",
       "      <td>0.55</td>\n",
       "      <td>Y</td>\n",
       "      <td>4</td>\n",
       "      <td>54400.0</td>\n",
       "      <td>1.554286</td>\n",
       "      <td>6800.000000</td>\n",
       "      <td>8750.000000</td>\n",
       "    </tr>\n",
       "  </tbody>\n",
       "</table>\n",
       "</div>"
      ],
      "text/plain": [
       "   person_age  person_income person_home_ownership  person_emp_length   \n",
       "0          22          59000                  RENT              123.0  \\\n",
       "1          21           9600                   OWN                5.0   \n",
       "2          25           9600              MORTGAGE                1.0   \n",
       "3          23          65500                  RENT                4.0   \n",
       "4          24          54400                  RENT                8.0   \n",
       "\n",
       "  loan_intent loan_grade  loan_amnt  loan_int_rate  loan_status   \n",
       "0    PERSONAL          D      35000          16.02            1  \\\n",
       "1   EDUCATION          B       1000          11.14            0   \n",
       "2     MEDICAL          C       5500          12.87            1   \n",
       "3     MEDICAL          C      35000          15.23            1   \n",
       "4     MEDICAL          C      35000          14.27            1   \n",
       "\n",
       "   loan_percent_income cb_person_default_on_file  cb_person_cred_hist_length   \n",
       "0                 0.59                         Y                           3  \\\n",
       "1                 0.10                         N                           2   \n",
       "2                 0.57                         N                           3   \n",
       "3                 0.53                         N                           2   \n",
       "4                 0.55                         Y                           4   \n",
       "\n",
       "   person_income_clipped  income_loan_ratio  income_emp_length_ratio   \n",
       "0                59000.0           1.685714               479.674797  \\\n",
       "1                 9600.0           9.600000              1920.000000   \n",
       "2                 9600.0           1.745455              9600.000000   \n",
       "3                65500.0           1.871429             16375.000000   \n",
       "4                54400.0           1.554286              6800.000000   \n",
       "\n",
       "   loan_credit_hist_ratio  \n",
       "0            11666.666667  \n",
       "1              500.000000  \n",
       "2             1833.333333  \n",
       "3            17500.000000  \n",
       "4             8750.000000  "
      ]
     },
     "execution_count": 21,
     "metadata": {},
     "output_type": "execute_result"
    }
   ],
   "source": [
    "# Feature Engineering\n",
    "\n",
    "# 1. Income to Loan Ratio\n",
    "df[\"income_loan_ratio\"] = df[\"person_income_clipped\"] / df[\"loan_amnt\"]\n",
    "\n",
    "# 2. Income to Employment Length Ratio\n",
    "# Before creating this feature, we need to handle missing values in 'person_emp_length'.\n",
    "# Here, we fill the missing values with the median of the column.\n",
    "df[\"person_emp_length\"].fillna(df[\"person_emp_length\"].median(), inplace=True)\n",
    "df[\"income_emp_length_ratio\"] = df[\"person_income_clipped\"] / df[\"person_emp_length\"]\n",
    "\n",
    "# 3. Loan Amount to Credit History Length Ratio\n",
    "df[\"loan_credit_hist_ratio\"] = df[\"loan_amnt\"] / df[\"cb_person_cred_hist_length\"]\n",
    "\n",
    "df.head()"
   ]
  },
  {
   "cell_type": "code",
   "execution_count": 22,
   "id": "0366bcc1-92fb-4cfb-ba07-f7f04cf4d83c",
   "metadata": {
    "tags": []
   },
   "outputs": [
    {
     "data": {
      "text/plain": [
       "(32576, 16)"
      ]
     },
     "execution_count": 22,
     "metadata": {},
     "output_type": "execute_result"
    }
   ],
   "source": [
    "df.shape"
   ]
  },
  {
   "cell_type": "code",
   "execution_count": 23,
   "id": "3e287a33-c174-4371-b96b-e8932947e3b0",
   "metadata": {
    "tags": []
   },
   "outputs": [
    {
     "data": {
      "text/html": [
       "<div>\n",
       "<style scoped>\n",
       "    .dataframe tbody tr th:only-of-type {\n",
       "        vertical-align: middle;\n",
       "    }\n",
       "\n",
       "    .dataframe tbody tr th {\n",
       "        vertical-align: top;\n",
       "    }\n",
       "\n",
       "    .dataframe thead th {\n",
       "        text-align: right;\n",
       "    }\n",
       "</style>\n",
       "<table border=\"1\" class=\"dataframe\">\n",
       "  <thead>\n",
       "    <tr style=\"text-align: right;\">\n",
       "      <th></th>\n",
       "      <th>person_age</th>\n",
       "      <th>person_income</th>\n",
       "      <th>person_home_ownership</th>\n",
       "      <th>person_emp_length</th>\n",
       "      <th>loan_intent</th>\n",
       "      <th>loan_grade</th>\n",
       "      <th>loan_amnt</th>\n",
       "      <th>loan_int_rate</th>\n",
       "      <th>loan_status</th>\n",
       "      <th>loan_percent_income</th>\n",
       "      <th>cb_person_default_on_file</th>\n",
       "      <th>cb_person_cred_hist_length</th>\n",
       "      <th>person_income_clipped</th>\n",
       "      <th>income_loan_ratio</th>\n",
       "      <th>income_emp_length_ratio</th>\n",
       "      <th>loan_credit_hist_ratio</th>\n",
       "    </tr>\n",
       "  </thead>\n",
       "  <tbody>\n",
       "    <tr>\n",
       "      <th>0</th>\n",
       "      <td>22</td>\n",
       "      <td>59000</td>\n",
       "      <td>RENT</td>\n",
       "      <td>123.0</td>\n",
       "      <td>PERSONAL</td>\n",
       "      <td>D</td>\n",
       "      <td>35000</td>\n",
       "      <td>16.02</td>\n",
       "      <td>1</td>\n",
       "      <td>0.59</td>\n",
       "      <td>Y</td>\n",
       "      <td>3</td>\n",
       "      <td>59000.0</td>\n",
       "      <td>1.685714</td>\n",
       "      <td>479.674797</td>\n",
       "      <td>11666.666667</td>\n",
       "    </tr>\n",
       "    <tr>\n",
       "      <th>1</th>\n",
       "      <td>21</td>\n",
       "      <td>9600</td>\n",
       "      <td>OWN</td>\n",
       "      <td>5.0</td>\n",
       "      <td>EDUCATION</td>\n",
       "      <td>B</td>\n",
       "      <td>1000</td>\n",
       "      <td>11.14</td>\n",
       "      <td>0</td>\n",
       "      <td>0.10</td>\n",
       "      <td>N</td>\n",
       "      <td>2</td>\n",
       "      <td>9600.0</td>\n",
       "      <td>9.600000</td>\n",
       "      <td>1920.000000</td>\n",
       "      <td>500.000000</td>\n",
       "    </tr>\n",
       "    <tr>\n",
       "      <th>2</th>\n",
       "      <td>25</td>\n",
       "      <td>9600</td>\n",
       "      <td>MORTGAGE</td>\n",
       "      <td>1.0</td>\n",
       "      <td>MEDICAL</td>\n",
       "      <td>C</td>\n",
       "      <td>5500</td>\n",
       "      <td>12.87</td>\n",
       "      <td>1</td>\n",
       "      <td>0.57</td>\n",
       "      <td>N</td>\n",
       "      <td>3</td>\n",
       "      <td>9600.0</td>\n",
       "      <td>1.745455</td>\n",
       "      <td>9600.000000</td>\n",
       "      <td>1833.333333</td>\n",
       "    </tr>\n",
       "    <tr>\n",
       "      <th>3</th>\n",
       "      <td>23</td>\n",
       "      <td>65500</td>\n",
       "      <td>RENT</td>\n",
       "      <td>4.0</td>\n",
       "      <td>MEDICAL</td>\n",
       "      <td>C</td>\n",
       "      <td>35000</td>\n",
       "      <td>15.23</td>\n",
       "      <td>1</td>\n",
       "      <td>0.53</td>\n",
       "      <td>N</td>\n",
       "      <td>2</td>\n",
       "      <td>65500.0</td>\n",
       "      <td>1.871429</td>\n",
       "      <td>16375.000000</td>\n",
       "      <td>17500.000000</td>\n",
       "    </tr>\n",
       "    <tr>\n",
       "      <th>4</th>\n",
       "      <td>24</td>\n",
       "      <td>54400</td>\n",
       "      <td>RENT</td>\n",
       "      <td>8.0</td>\n",
       "      <td>MEDICAL</td>\n",
       "      <td>C</td>\n",
       "      <td>35000</td>\n",
       "      <td>14.27</td>\n",
       "      <td>1</td>\n",
       "      <td>0.55</td>\n",
       "      <td>Y</td>\n",
       "      <td>4</td>\n",
       "      <td>54400.0</td>\n",
       "      <td>1.554286</td>\n",
       "      <td>6800.000000</td>\n",
       "      <td>8750.000000</td>\n",
       "    </tr>\n",
       "  </tbody>\n",
       "</table>\n",
       "</div>"
      ],
      "text/plain": [
       "   person_age  person_income person_home_ownership  person_emp_length   \n",
       "0          22          59000                  RENT              123.0  \\\n",
       "1          21           9600                   OWN                5.0   \n",
       "2          25           9600              MORTGAGE                1.0   \n",
       "3          23          65500                  RENT                4.0   \n",
       "4          24          54400                  RENT                8.0   \n",
       "\n",
       "  loan_intent loan_grade  loan_amnt  loan_int_rate  loan_status   \n",
       "0    PERSONAL          D      35000          16.02            1  \\\n",
       "1   EDUCATION          B       1000          11.14            0   \n",
       "2     MEDICAL          C       5500          12.87            1   \n",
       "3     MEDICAL          C      35000          15.23            1   \n",
       "4     MEDICAL          C      35000          14.27            1   \n",
       "\n",
       "   loan_percent_income cb_person_default_on_file  cb_person_cred_hist_length   \n",
       "0                 0.59                         Y                           3  \\\n",
       "1                 0.10                         N                           2   \n",
       "2                 0.57                         N                           3   \n",
       "3                 0.53                         N                           2   \n",
       "4                 0.55                         Y                           4   \n",
       "\n",
       "   person_income_clipped  income_loan_ratio  income_emp_length_ratio   \n",
       "0                59000.0           1.685714               479.674797  \\\n",
       "1                 9600.0           9.600000              1920.000000   \n",
       "2                 9600.0           1.745455              9600.000000   \n",
       "3                65500.0           1.871429             16375.000000   \n",
       "4                54400.0           1.554286              6800.000000   \n",
       "\n",
       "   loan_credit_hist_ratio  \n",
       "0            11666.666667  \n",
       "1              500.000000  \n",
       "2             1833.333333  \n",
       "3            17500.000000  \n",
       "4             8750.000000  "
      ]
     },
     "execution_count": 23,
     "metadata": {},
     "output_type": "execute_result"
    }
   ],
   "source": [
    "df.head()"
   ]
  },
  {
   "cell_type": "code",
   "execution_count": 24,
   "id": "705e2318-0600-4eee-bba8-57ce87f47233",
   "metadata": {
    "tags": []
   },
   "outputs": [
    {
     "data": {
      "text/html": [
       "<div>\n",
       "<style scoped>\n",
       "    .dataframe tbody tr th:only-of-type {\n",
       "        vertical-align: middle;\n",
       "    }\n",
       "\n",
       "    .dataframe tbody tr th {\n",
       "        vertical-align: top;\n",
       "    }\n",
       "\n",
       "    .dataframe thead th {\n",
       "        text-align: right;\n",
       "    }\n",
       "</style>\n",
       "<table border=\"1\" class=\"dataframe\">\n",
       "  <thead>\n",
       "    <tr style=\"text-align: right;\">\n",
       "      <th></th>\n",
       "      <th>person_age</th>\n",
       "      <th>person_income</th>\n",
       "      <th>person_emp_length</th>\n",
       "      <th>loan_amnt</th>\n",
       "      <th>loan_int_rate</th>\n",
       "      <th>loan_status</th>\n",
       "      <th>loan_percent_income</th>\n",
       "      <th>cb_person_cred_hist_length</th>\n",
       "      <th>person_income_clipped</th>\n",
       "      <th>income_loan_ratio</th>\n",
       "      <th>income_emp_length_ratio</th>\n",
       "      <th>loan_credit_hist_ratio</th>\n",
       "    </tr>\n",
       "  </thead>\n",
       "  <tbody>\n",
       "    <tr>\n",
       "      <th>count</th>\n",
       "      <td>32576.000000</td>\n",
       "      <td>3.257600e+04</td>\n",
       "      <td>32576.000000</td>\n",
       "      <td>32576.000000</td>\n",
       "      <td>29461.000000</td>\n",
       "      <td>32576.000000</td>\n",
       "      <td>32576.000000</td>\n",
       "      <td>32576.000000</td>\n",
       "      <td>32576.000000</td>\n",
       "      <td>32576.000000</td>\n",
       "      <td>3.257600e+04</td>\n",
       "      <td>32576.000000</td>\n",
       "    </tr>\n",
       "    <tr>\n",
       "      <th>mean</th>\n",
       "      <td>27.718044</td>\n",
       "      <td>6.588214e+04</td>\n",
       "      <td>4.767835</td>\n",
       "      <td>9589.117755</td>\n",
       "      <td>11.011547</td>\n",
       "      <td>0.218197</td>\n",
       "      <td>0.170212</td>\n",
       "      <td>5.803966</td>\n",
       "      <td>63856.023164</td>\n",
       "      <td>9.472046</td>\n",
       "      <td>inf</td>\n",
       "      <td>2396.077156</td>\n",
       "    </tr>\n",
       "    <tr>\n",
       "      <th>std</th>\n",
       "      <td>6.204990</td>\n",
       "      <td>5.253499e+04</td>\n",
       "      <td>4.087437</td>\n",
       "      <td>6321.886846</td>\n",
       "      <td>3.240623</td>\n",
       "      <td>0.413029</td>\n",
       "      <td>0.106778</td>\n",
       "      <td>4.053791</td>\n",
       "      <td>35989.203953</td>\n",
       "      <td>9.189024</td>\n",
       "      <td>NaN</td>\n",
       "      <td>2216.701462</td>\n",
       "    </tr>\n",
       "    <tr>\n",
       "      <th>min</th>\n",
       "      <td>20.000000</td>\n",
       "      <td>4.000000e+03</td>\n",
       "      <td>0.000000</td>\n",
       "      <td>500.000000</td>\n",
       "      <td>5.420000</td>\n",
       "      <td>0.000000</td>\n",
       "      <td>0.000000</td>\n",
       "      <td>2.000000</td>\n",
       "      <td>4000.000000</td>\n",
       "      <td>1.204819</td>\n",
       "      <td>4.796748e+02</td>\n",
       "      <td>34.482759</td>\n",
       "    </tr>\n",
       "    <tr>\n",
       "      <th>25%</th>\n",
       "      <td>23.000000</td>\n",
       "      <td>3.850000e+04</td>\n",
       "      <td>2.000000</td>\n",
       "      <td>5000.000000</td>\n",
       "      <td>7.900000</td>\n",
       "      <td>0.000000</td>\n",
       "      <td>0.090000</td>\n",
       "      <td>3.000000</td>\n",
       "      <td>38500.000000</td>\n",
       "      <td>4.363636</td>\n",
       "      <td>8.000000e+03</td>\n",
       "      <td>866.666667</td>\n",
       "    </tr>\n",
       "    <tr>\n",
       "      <th>50%</th>\n",
       "      <td>26.000000</td>\n",
       "      <td>5.500000e+04</td>\n",
       "      <td>4.000000</td>\n",
       "      <td>8000.000000</td>\n",
       "      <td>10.990000</td>\n",
       "      <td>0.000000</td>\n",
       "      <td>0.150000</td>\n",
       "      <td>4.000000</td>\n",
       "      <td>55000.000000</td>\n",
       "      <td>6.740000</td>\n",
       "      <td>1.440000e+04</td>\n",
       "      <td>1678.750000</td>\n",
       "    </tr>\n",
       "    <tr>\n",
       "      <th>75%</th>\n",
       "      <td>30.000000</td>\n",
       "      <td>7.920000e+04</td>\n",
       "      <td>7.000000</td>\n",
       "      <td>12200.000000</td>\n",
       "      <td>13.470000</td>\n",
       "      <td>0.000000</td>\n",
       "      <td>0.230000</td>\n",
       "      <td>8.000000</td>\n",
       "      <td>79200.000000</td>\n",
       "      <td>11.037592</td>\n",
       "      <td>3.333333e+04</td>\n",
       "      <td>3166.666667</td>\n",
       "    </tr>\n",
       "    <tr>\n",
       "      <th>max</th>\n",
       "      <td>94.000000</td>\n",
       "      <td>2.039784e+06</td>\n",
       "      <td>123.000000</td>\n",
       "      <td>35000.000000</td>\n",
       "      <td>23.220000</td>\n",
       "      <td>1.000000</td>\n",
       "      <td>0.830000</td>\n",
       "      <td>30.000000</td>\n",
       "      <td>190376.800000</td>\n",
       "      <td>190.376800</td>\n",
       "      <td>inf</td>\n",
       "      <td>17500.000000</td>\n",
       "    </tr>\n",
       "  </tbody>\n",
       "</table>\n",
       "</div>"
      ],
      "text/plain": [
       "         person_age  person_income  person_emp_length     loan_amnt   \n",
       "count  32576.000000   3.257600e+04       32576.000000  32576.000000  \\\n",
       "mean      27.718044   6.588214e+04           4.767835   9589.117755   \n",
       "std        6.204990   5.253499e+04           4.087437   6321.886846   \n",
       "min       20.000000   4.000000e+03           0.000000    500.000000   \n",
       "25%       23.000000   3.850000e+04           2.000000   5000.000000   \n",
       "50%       26.000000   5.500000e+04           4.000000   8000.000000   \n",
       "75%       30.000000   7.920000e+04           7.000000  12200.000000   \n",
       "max       94.000000   2.039784e+06         123.000000  35000.000000   \n",
       "\n",
       "       loan_int_rate   loan_status  loan_percent_income   \n",
       "count   29461.000000  32576.000000         32576.000000  \\\n",
       "mean       11.011547      0.218197             0.170212   \n",
       "std         3.240623      0.413029             0.106778   \n",
       "min         5.420000      0.000000             0.000000   \n",
       "25%         7.900000      0.000000             0.090000   \n",
       "50%        10.990000      0.000000             0.150000   \n",
       "75%        13.470000      0.000000             0.230000   \n",
       "max        23.220000      1.000000             0.830000   \n",
       "\n",
       "       cb_person_cred_hist_length  person_income_clipped  income_loan_ratio   \n",
       "count                32576.000000           32576.000000       32576.000000  \\\n",
       "mean                     5.803966           63856.023164           9.472046   \n",
       "std                      4.053791           35989.203953           9.189024   \n",
       "min                      2.000000            4000.000000           1.204819   \n",
       "25%                      3.000000           38500.000000           4.363636   \n",
       "50%                      4.000000           55000.000000           6.740000   \n",
       "75%                      8.000000           79200.000000          11.037592   \n",
       "max                     30.000000          190376.800000         190.376800   \n",
       "\n",
       "       income_emp_length_ratio  loan_credit_hist_ratio  \n",
       "count             3.257600e+04            32576.000000  \n",
       "mean                       inf             2396.077156  \n",
       "std                        NaN             2216.701462  \n",
       "min               4.796748e+02               34.482759  \n",
       "25%               8.000000e+03              866.666667  \n",
       "50%               1.440000e+04             1678.750000  \n",
       "75%               3.333333e+04             3166.666667  \n",
       "max                        inf            17500.000000  "
      ]
     },
     "execution_count": 24,
     "metadata": {},
     "output_type": "execute_result"
    }
   ],
   "source": [
    "df.describe()"
   ]
  },
  {
   "cell_type": "code",
   "execution_count": 25,
   "id": "c7c7a18a-ac82-4bb2-8ad8-a4b4a99691b4",
   "metadata": {
    "tags": []
   },
   "outputs": [],
   "source": [
    "df.to_csv(Path(datasets_path, \"risk_data_preprocessed.csv\"), index=False)"
   ]
  }
 ],
 "metadata": {
  "availableInstances": [
   {
    "_defaultOrder": 0,
    "_isFastLaunch": true,
    "category": "General purpose",
    "gpuNum": 0,
    "hideHardwareSpecs": false,
    "memoryGiB": 4,
    "name": "ml.t3.medium",
    "vcpuNum": 2
   },
   {
    "_defaultOrder": 1,
    "_isFastLaunch": false,
    "category": "General purpose",
    "gpuNum": 0,
    "hideHardwareSpecs": false,
    "memoryGiB": 8,
    "name": "ml.t3.large",
    "vcpuNum": 2
   },
   {
    "_defaultOrder": 2,
    "_isFastLaunch": false,
    "category": "General purpose",
    "gpuNum": 0,
    "hideHardwareSpecs": false,
    "memoryGiB": 16,
    "name": "ml.t3.xlarge",
    "vcpuNum": 4
   },
   {
    "_defaultOrder": 3,
    "_isFastLaunch": false,
    "category": "General purpose",
    "gpuNum": 0,
    "hideHardwareSpecs": false,
    "memoryGiB": 32,
    "name": "ml.t3.2xlarge",
    "vcpuNum": 8
   },
   {
    "_defaultOrder": 4,
    "_isFastLaunch": true,
    "category": "General purpose",
    "gpuNum": 0,
    "hideHardwareSpecs": false,
    "memoryGiB": 8,
    "name": "ml.m5.large",
    "vcpuNum": 2
   },
   {
    "_defaultOrder": 5,
    "_isFastLaunch": false,
    "category": "General purpose",
    "gpuNum": 0,
    "hideHardwareSpecs": false,
    "memoryGiB": 16,
    "name": "ml.m5.xlarge",
    "vcpuNum": 4
   },
   {
    "_defaultOrder": 6,
    "_isFastLaunch": false,
    "category": "General purpose",
    "gpuNum": 0,
    "hideHardwareSpecs": false,
    "memoryGiB": 32,
    "name": "ml.m5.2xlarge",
    "vcpuNum": 8
   },
   {
    "_defaultOrder": 7,
    "_isFastLaunch": false,
    "category": "General purpose",
    "gpuNum": 0,
    "hideHardwareSpecs": false,
    "memoryGiB": 64,
    "name": "ml.m5.4xlarge",
    "vcpuNum": 16
   },
   {
    "_defaultOrder": 8,
    "_isFastLaunch": false,
    "category": "General purpose",
    "gpuNum": 0,
    "hideHardwareSpecs": false,
    "memoryGiB": 128,
    "name": "ml.m5.8xlarge",
    "vcpuNum": 32
   },
   {
    "_defaultOrder": 9,
    "_isFastLaunch": false,
    "category": "General purpose",
    "gpuNum": 0,
    "hideHardwareSpecs": false,
    "memoryGiB": 192,
    "name": "ml.m5.12xlarge",
    "vcpuNum": 48
   },
   {
    "_defaultOrder": 10,
    "_isFastLaunch": false,
    "category": "General purpose",
    "gpuNum": 0,
    "hideHardwareSpecs": false,
    "memoryGiB": 256,
    "name": "ml.m5.16xlarge",
    "vcpuNum": 64
   },
   {
    "_defaultOrder": 11,
    "_isFastLaunch": false,
    "category": "General purpose",
    "gpuNum": 0,
    "hideHardwareSpecs": false,
    "memoryGiB": 384,
    "name": "ml.m5.24xlarge",
    "vcpuNum": 96
   },
   {
    "_defaultOrder": 12,
    "_isFastLaunch": false,
    "category": "General purpose",
    "gpuNum": 0,
    "hideHardwareSpecs": false,
    "memoryGiB": 8,
    "name": "ml.m5d.large",
    "vcpuNum": 2
   },
   {
    "_defaultOrder": 13,
    "_isFastLaunch": false,
    "category": "General purpose",
    "gpuNum": 0,
    "hideHardwareSpecs": false,
    "memoryGiB": 16,
    "name": "ml.m5d.xlarge",
    "vcpuNum": 4
   },
   {
    "_defaultOrder": 14,
    "_isFastLaunch": false,
    "category": "General purpose",
    "gpuNum": 0,
    "hideHardwareSpecs": false,
    "memoryGiB": 32,
    "name": "ml.m5d.2xlarge",
    "vcpuNum": 8
   },
   {
    "_defaultOrder": 15,
    "_isFastLaunch": false,
    "category": "General purpose",
    "gpuNum": 0,
    "hideHardwareSpecs": false,
    "memoryGiB": 64,
    "name": "ml.m5d.4xlarge",
    "vcpuNum": 16
   },
   {
    "_defaultOrder": 16,
    "_isFastLaunch": false,
    "category": "General purpose",
    "gpuNum": 0,
    "hideHardwareSpecs": false,
    "memoryGiB": 128,
    "name": "ml.m5d.8xlarge",
    "vcpuNum": 32
   },
   {
    "_defaultOrder": 17,
    "_isFastLaunch": false,
    "category": "General purpose",
    "gpuNum": 0,
    "hideHardwareSpecs": false,
    "memoryGiB": 192,
    "name": "ml.m5d.12xlarge",
    "vcpuNum": 48
   },
   {
    "_defaultOrder": 18,
    "_isFastLaunch": false,
    "category": "General purpose",
    "gpuNum": 0,
    "hideHardwareSpecs": false,
    "memoryGiB": 256,
    "name": "ml.m5d.16xlarge",
    "vcpuNum": 64
   },
   {
    "_defaultOrder": 19,
    "_isFastLaunch": false,
    "category": "General purpose",
    "gpuNum": 0,
    "hideHardwareSpecs": false,
    "memoryGiB": 384,
    "name": "ml.m5d.24xlarge",
    "vcpuNum": 96
   },
   {
    "_defaultOrder": 20,
    "_isFastLaunch": false,
    "category": "General purpose",
    "gpuNum": 0,
    "hideHardwareSpecs": true,
    "memoryGiB": 0,
    "name": "ml.geospatial.interactive",
    "supportedImageNames": [
     "sagemaker-geospatial-v1-0"
    ],
    "vcpuNum": 0
   },
   {
    "_defaultOrder": 21,
    "_isFastLaunch": true,
    "category": "Compute optimized",
    "gpuNum": 0,
    "hideHardwareSpecs": false,
    "memoryGiB": 4,
    "name": "ml.c5.large",
    "vcpuNum": 2
   },
   {
    "_defaultOrder": 22,
    "_isFastLaunch": false,
    "category": "Compute optimized",
    "gpuNum": 0,
    "hideHardwareSpecs": false,
    "memoryGiB": 8,
    "name": "ml.c5.xlarge",
    "vcpuNum": 4
   },
   {
    "_defaultOrder": 23,
    "_isFastLaunch": false,
    "category": "Compute optimized",
    "gpuNum": 0,
    "hideHardwareSpecs": false,
    "memoryGiB": 16,
    "name": "ml.c5.2xlarge",
    "vcpuNum": 8
   },
   {
    "_defaultOrder": 24,
    "_isFastLaunch": false,
    "category": "Compute optimized",
    "gpuNum": 0,
    "hideHardwareSpecs": false,
    "memoryGiB": 32,
    "name": "ml.c5.4xlarge",
    "vcpuNum": 16
   },
   {
    "_defaultOrder": 25,
    "_isFastLaunch": false,
    "category": "Compute optimized",
    "gpuNum": 0,
    "hideHardwareSpecs": false,
    "memoryGiB": 72,
    "name": "ml.c5.9xlarge",
    "vcpuNum": 36
   },
   {
    "_defaultOrder": 26,
    "_isFastLaunch": false,
    "category": "Compute optimized",
    "gpuNum": 0,
    "hideHardwareSpecs": false,
    "memoryGiB": 96,
    "name": "ml.c5.12xlarge",
    "vcpuNum": 48
   },
   {
    "_defaultOrder": 27,
    "_isFastLaunch": false,
    "category": "Compute optimized",
    "gpuNum": 0,
    "hideHardwareSpecs": false,
    "memoryGiB": 144,
    "name": "ml.c5.18xlarge",
    "vcpuNum": 72
   },
   {
    "_defaultOrder": 28,
    "_isFastLaunch": false,
    "category": "Compute optimized",
    "gpuNum": 0,
    "hideHardwareSpecs": false,
    "memoryGiB": 192,
    "name": "ml.c5.24xlarge",
    "vcpuNum": 96
   },
   {
    "_defaultOrder": 29,
    "_isFastLaunch": true,
    "category": "Accelerated computing",
    "gpuNum": 1,
    "hideHardwareSpecs": false,
    "memoryGiB": 16,
    "name": "ml.g4dn.xlarge",
    "vcpuNum": 4
   },
   {
    "_defaultOrder": 30,
    "_isFastLaunch": false,
    "category": "Accelerated computing",
    "gpuNum": 1,
    "hideHardwareSpecs": false,
    "memoryGiB": 32,
    "name": "ml.g4dn.2xlarge",
    "vcpuNum": 8
   },
   {
    "_defaultOrder": 31,
    "_isFastLaunch": false,
    "category": "Accelerated computing",
    "gpuNum": 1,
    "hideHardwareSpecs": false,
    "memoryGiB": 64,
    "name": "ml.g4dn.4xlarge",
    "vcpuNum": 16
   },
   {
    "_defaultOrder": 32,
    "_isFastLaunch": false,
    "category": "Accelerated computing",
    "gpuNum": 1,
    "hideHardwareSpecs": false,
    "memoryGiB": 128,
    "name": "ml.g4dn.8xlarge",
    "vcpuNum": 32
   },
   {
    "_defaultOrder": 33,
    "_isFastLaunch": false,
    "category": "Accelerated computing",
    "gpuNum": 4,
    "hideHardwareSpecs": false,
    "memoryGiB": 192,
    "name": "ml.g4dn.12xlarge",
    "vcpuNum": 48
   },
   {
    "_defaultOrder": 34,
    "_isFastLaunch": false,
    "category": "Accelerated computing",
    "gpuNum": 1,
    "hideHardwareSpecs": false,
    "memoryGiB": 256,
    "name": "ml.g4dn.16xlarge",
    "vcpuNum": 64
   },
   {
    "_defaultOrder": 35,
    "_isFastLaunch": false,
    "category": "Accelerated computing",
    "gpuNum": 1,
    "hideHardwareSpecs": false,
    "memoryGiB": 61,
    "name": "ml.p3.2xlarge",
    "vcpuNum": 8
   },
   {
    "_defaultOrder": 36,
    "_isFastLaunch": false,
    "category": "Accelerated computing",
    "gpuNum": 4,
    "hideHardwareSpecs": false,
    "memoryGiB": 244,
    "name": "ml.p3.8xlarge",
    "vcpuNum": 32
   },
   {
    "_defaultOrder": 37,
    "_isFastLaunch": false,
    "category": "Accelerated computing",
    "gpuNum": 8,
    "hideHardwareSpecs": false,
    "memoryGiB": 488,
    "name": "ml.p3.16xlarge",
    "vcpuNum": 64
   },
   {
    "_defaultOrder": 38,
    "_isFastLaunch": false,
    "category": "Accelerated computing",
    "gpuNum": 8,
    "hideHardwareSpecs": false,
    "memoryGiB": 768,
    "name": "ml.p3dn.24xlarge",
    "vcpuNum": 96
   },
   {
    "_defaultOrder": 39,
    "_isFastLaunch": false,
    "category": "Memory Optimized",
    "gpuNum": 0,
    "hideHardwareSpecs": false,
    "memoryGiB": 16,
    "name": "ml.r5.large",
    "vcpuNum": 2
   },
   {
    "_defaultOrder": 40,
    "_isFastLaunch": false,
    "category": "Memory Optimized",
    "gpuNum": 0,
    "hideHardwareSpecs": false,
    "memoryGiB": 32,
    "name": "ml.r5.xlarge",
    "vcpuNum": 4
   },
   {
    "_defaultOrder": 41,
    "_isFastLaunch": false,
    "category": "Memory Optimized",
    "gpuNum": 0,
    "hideHardwareSpecs": false,
    "memoryGiB": 64,
    "name": "ml.r5.2xlarge",
    "vcpuNum": 8
   },
   {
    "_defaultOrder": 42,
    "_isFastLaunch": false,
    "category": "Memory Optimized",
    "gpuNum": 0,
    "hideHardwareSpecs": false,
    "memoryGiB": 128,
    "name": "ml.r5.4xlarge",
    "vcpuNum": 16
   },
   {
    "_defaultOrder": 43,
    "_isFastLaunch": false,
    "category": "Memory Optimized",
    "gpuNum": 0,
    "hideHardwareSpecs": false,
    "memoryGiB": 256,
    "name": "ml.r5.8xlarge",
    "vcpuNum": 32
   },
   {
    "_defaultOrder": 44,
    "_isFastLaunch": false,
    "category": "Memory Optimized",
    "gpuNum": 0,
    "hideHardwareSpecs": false,
    "memoryGiB": 384,
    "name": "ml.r5.12xlarge",
    "vcpuNum": 48
   },
   {
    "_defaultOrder": 45,
    "_isFastLaunch": false,
    "category": "Memory Optimized",
    "gpuNum": 0,
    "hideHardwareSpecs": false,
    "memoryGiB": 512,
    "name": "ml.r5.16xlarge",
    "vcpuNum": 64
   },
   {
    "_defaultOrder": 46,
    "_isFastLaunch": false,
    "category": "Memory Optimized",
    "gpuNum": 0,
    "hideHardwareSpecs": false,
    "memoryGiB": 768,
    "name": "ml.r5.24xlarge",
    "vcpuNum": 96
   },
   {
    "_defaultOrder": 47,
    "_isFastLaunch": false,
    "category": "Accelerated computing",
    "gpuNum": 1,
    "hideHardwareSpecs": false,
    "memoryGiB": 16,
    "name": "ml.g5.xlarge",
    "vcpuNum": 4
   },
   {
    "_defaultOrder": 48,
    "_isFastLaunch": false,
    "category": "Accelerated computing",
    "gpuNum": 1,
    "hideHardwareSpecs": false,
    "memoryGiB": 32,
    "name": "ml.g5.2xlarge",
    "vcpuNum": 8
   },
   {
    "_defaultOrder": 49,
    "_isFastLaunch": false,
    "category": "Accelerated computing",
    "gpuNum": 1,
    "hideHardwareSpecs": false,
    "memoryGiB": 64,
    "name": "ml.g5.4xlarge",
    "vcpuNum": 16
   },
   {
    "_defaultOrder": 50,
    "_isFastLaunch": false,
    "category": "Accelerated computing",
    "gpuNum": 1,
    "hideHardwareSpecs": false,
    "memoryGiB": 128,
    "name": "ml.g5.8xlarge",
    "vcpuNum": 32
   },
   {
    "_defaultOrder": 51,
    "_isFastLaunch": false,
    "category": "Accelerated computing",
    "gpuNum": 1,
    "hideHardwareSpecs": false,
    "memoryGiB": 256,
    "name": "ml.g5.16xlarge",
    "vcpuNum": 64
   },
   {
    "_defaultOrder": 52,
    "_isFastLaunch": false,
    "category": "Accelerated computing",
    "gpuNum": 4,
    "hideHardwareSpecs": false,
    "memoryGiB": 192,
    "name": "ml.g5.12xlarge",
    "vcpuNum": 48
   },
   {
    "_defaultOrder": 53,
    "_isFastLaunch": false,
    "category": "Accelerated computing",
    "gpuNum": 4,
    "hideHardwareSpecs": false,
    "memoryGiB": 384,
    "name": "ml.g5.24xlarge",
    "vcpuNum": 96
   },
   {
    "_defaultOrder": 54,
    "_isFastLaunch": false,
    "category": "Accelerated computing",
    "gpuNum": 8,
    "hideHardwareSpecs": false,
    "memoryGiB": 768,
    "name": "ml.g5.48xlarge",
    "vcpuNum": 192
   },
   {
    "_defaultOrder": 55,
    "_isFastLaunch": false,
    "category": "Accelerated computing",
    "gpuNum": 8,
    "hideHardwareSpecs": false,
    "memoryGiB": 1152,
    "name": "ml.p4d.24xlarge",
    "vcpuNum": 96
   },
   {
    "_defaultOrder": 56,
    "_isFastLaunch": false,
    "category": "Accelerated computing",
    "gpuNum": 8,
    "hideHardwareSpecs": false,
    "memoryGiB": 1152,
    "name": "ml.p4de.24xlarge",
    "vcpuNum": 96
   }
  ],
  "instance_type": "ml.m5.large",
  "kernelspec": {
   "display_name": "Python 3 (Data Science 3.0)",
   "language": "python",
   "name": "python3__SAGEMAKER_INTERNAL__arn:aws:sagemaker:eu-west-1:470317259841:image/sagemaker-data-science-310-v1"
  },
  "language_info": {
   "codemirror_mode": {
    "name": "ipython",
    "version": 3
   },
   "file_extension": ".py",
   "mimetype": "text/x-python",
   "name": "python",
   "nbconvert_exporter": "python",
   "pygments_lexer": "ipython3",
   "version": "3.10.6"
  }
 },
 "nbformat": 4,
 "nbformat_minor": 5
}
